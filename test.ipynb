{
 "metadata": {
  "language_info": {
   "codemirror_mode": {
    "name": "ipython",
    "version": 3
   },
   "file_extension": ".py",
   "mimetype": "text/x-python",
   "name": "python",
   "nbconvert_exporter": "python",
   "pygments_lexer": "ipython3",
   "version": "3.7.3-final"
  },
  "orig_nbformat": 2,
  "kernelspec": {
   "name": "python3",
   "display_name": "Python 3",
   "language": "python"
  }
 },
 "nbformat": 4,
 "nbformat_minor": 2,
 "cells": [
  {
   "cell_type": "code",
   "execution_count": null,
   "metadata": {},
   "outputs": [],
   "source": [
    "import node\n",
    "import numpy as np"
   ]
  },
  {
   "cell_type": "code",
   "execution_count": null,
   "metadata": {},
   "outputs": [],
   "source": [
    "n1 = node.Node(p=None, n=\"ROOT\", v=None)\n",
    "n2 = node.Node(p=None, n=\"n2\", v=9)\n",
    "n3 = node.Node(p=None, n=\"n3\", v=None)\n",
    "n4 = node.Node(p=None, n=\"n4\", v=None)\n",
    "n5 = node.Node(p=None, n=\"n5\", v=None)\n",
    "n6 = node.Node(p=None, n=\"n6\", v=7)\n",
    "n7 = node.Node(p=None, n=\"n7\", v=12)\n",
    "n8 = node.Node(p=None, n=\"n8\", v=30)\n",
    "\n",
    "n2.setParent(n1)\n",
    "n3.setParent(n1)\n",
    "n1.appendChild(n2)\n",
    "n1.appendChild(n3)\n",
    "n4.setParent(n3)\n",
    "n5.setParent(n3)\n",
    "n3.appendChild(n4)\n",
    "n3.appendChild(n5)\n",
    "n6.setParent(n4)\n",
    "n7.setParent(n4)\n",
    "n4.appendChild(n6)\n",
    "n4.appendChild(n7)\n",
    "n8.setParent(n5)\n",
    "n5.appendChild(n8)"
   ]
  },
  {
   "cell_type": "code",
   "execution_count": null,
   "metadata": {},
   "outputs": [],
   "source": [
    "def hasNoneValue(aListOfNodes):\n",
    "    hasNone = False\n",
    "    items = []\n",
    "    for i in range(len(aListOfNodes)):\n",
    "        if aListOfNodes[i].getValue() == None:\n",
    "            hasNone = True\n",
    "            items.append(i)\n",
    "    return [hasNone, items]\n",
    "def minimax(aTree, isMaximizer):\n",
    "    needRecursive = hasNoneValue(aTree.getChildrenList())\n",
    "    if needRecursive[0]:\n",
    "        for i in needRecursive[1]:\n",
    "            minimax(aTree.getChildrenList()[i], not isMaximizer)\n",
    "    children = aTree.getChildrenList()\n",
    "    cInfo = [[each.getName(), each.getValue()] for each in children]\n",
    "    v = sorted(cInfo, key=lambda x:x[1], reverse=isMaximizer)[0]\n",
    "    aTree.setValue(v[1])"
   ]
  },
  {
   "cell_type": "code",
   "execution_count": null,
   "metadata": {},
   "outputs": [],
   "source": [
    "def isRoot(n):\n",
    "    if n.getParent() == None:\n",
    "        return True\n",
    "    return False\n",
    "def backPropagate(aNewLeaf):\n",
    "    probe = aNewLeaf\n",
    "    while not isRoot(probe):\n",
    "        probe = probe.getParent()\n",
    "        probe.setValue(None)\n",
    "    minimax(probe, True)"
   ]
  },
  {
   "cell_type": "code",
   "execution_count": null,
   "metadata": {},
   "outputs": [],
   "source": [
    "print(n1.getValue())"
   ]
  },
  {
   "cell_type": "code",
   "execution_count": null,
   "metadata": {},
   "outputs": [],
   "source": [
    "minimax(n1, True)\n",
    "print(n1.getValue())"
   ]
  },
  {
   "cell_type": "code",
   "execution_count": null,
   "metadata": {},
   "outputs": [],
   "source": [
    "n9 = node.Node(p=None, n=\"n9\", v=19)\n",
    "n9.setParent(n2)\n",
    "n2.appendChild(n9)\n",
    "backPropagate(n9)\n",
    "print(n1.getValue())"
   ]
  },
  {
   "cell_type": "code",
   "execution_count": null,
   "metadata": {},
   "outputs": [],
   "source": [
    "n10 = node.Node(p=None, n=\"n10\", v=18)\n",
    "n10.setParent(n2)\n",
    "n2.appendChild(n10)\n",
    "backPropagate(n10)\n",
    "print(n1.getValue())"
   ]
  },
  {
   "cell_type": "code",
   "execution_count": null,
   "metadata": {},
   "outputs": [],
   "source": [
    "def postOrderPrintTree(n):\n",
    "    if n.getChildrenList() != []:\n",
    "        if isRoot(n):\n",
    "            print(\"Name\\tValue\\tParent\\t#\\tChildren\\n\" + \n",
    "                  \"_________________________________________________\")\n",
    "            print(str(n.getName())+\"\\t\" +\n",
    "                str(n.getValue())+\"\\t\" +\n",
    "                \"None\\t\" +\n",
    "                str(len(n.getChildrenList()))+\"\\t\" +\n",
    "                n.printChildrenList().strip(\", \"))\n",
    "        else:\n",
    "            print(str(n.getName())+\"\\t\" +\n",
    "                str(n.getValue())+\"\\t\" +\n",
    "                str(n.getParent().getName())+\"\\t\" +\n",
    "                str(len(n.getChildrenList()))+\"\\t\" +\n",
    "                n.printChildrenList().strip(\", \"))\n",
    "    else:\n",
    "        if isRoot(n):\n",
    "            print(\"Name\\tValue\\tParent\\tChild Number\\tChildren\\n\" + \n",
    "                  \"_________________________________________________\")\n",
    "            print(str(n.getName())+\"\\t\" +\n",
    "                str(n.getValue())+\"\\t\" +\n",
    "                \"None\\t\" +\n",
    "                \"No\")\n",
    "        else:\n",
    "            print(str(n.getName())+\"\\t\" +\n",
    "                str(n.getValue())+\"\\t\" +\n",
    "                str(n.getParent().getName())+\"\\t\" +\n",
    "                \"No\")\n",
    "    for each in n.getChildrenList():\n",
    "        postOrderPrintTree(each)"
   ]
  },
  {
   "cell_type": "code",
   "execution_count": null,
   "metadata": {},
   "outputs": [],
   "source": [
    "postOrderPrintTree(n1)"
   ]
  },
  {
   "cell_type": "code",
   "execution_count": null,
   "metadata": {},
   "outputs": [],
   "source": [
    "import mp2"
   ]
  },
  {
   "cell_type": "code",
   "execution_count": null,
   "metadata": {},
   "outputs": [],
   "source": [
    "player = mp2.machinePlayer()"
   ]
  },
  {
   "cell_type": "code",
   "execution_count": null,
   "metadata": {},
   "outputs": [],
   "source": [
    "for j in range(1):\n",
    "    k = 1\n",
    "    for i in range(9):\n",
    "        player.select(k)\n",
    "        k = -1*k + 3\n",
    "    player.backPropagate2(state=1)\n",
    "    player.clearPath()\n",
    "player.postOrderPrintTree2()"
   ]
  },
  {
   "cell_type": "code",
   "execution_count": null,
   "metadata": {},
   "outputs": [],
   "source": [
    "# player.postOrderPrintTree2()"
   ]
  },
  {
   "cell_type": "code",
   "execution_count": null,
   "metadata": {},
   "outputs": [],
   "source": [
    "# player.backPropagate2(state=1)\n",
    "# player.clearPath()\n",
    "# player.postOrderPrintTree2()"
   ]
  },
  {
   "cell_type": "code",
   "execution_count": null,
   "metadata": {},
   "outputs": [],
   "source": [
    "# for i in range(9):\n",
    "#     print(player.select2(1))"
   ]
  },
  {
   "cell_type": "code",
   "execution_count": null,
   "metadata": {},
   "outputs": [],
   "source": [
    "# player.postOrderPrintTree2()"
   ]
  },
  {
   "cell_type": "code",
   "execution_count": null,
   "metadata": {},
   "outputs": [],
   "source": [
    "[i.getName() for i in game.player._machinePlayer__root.getChildrenList()]"
   ]
  },
  {
   "cell_type": "code",
   "execution_count": null,
   "metadata": {},
   "outputs": [],
   "source": [
    "[i.getValue() for i in game.player._machinePlayer__root.getChildrenList()]"
   ]
  },
  {
   "cell_type": "code",
   "execution_count": null,
   "metadata": {},
   "outputs": [],
   "source": []
  }
 ]
}